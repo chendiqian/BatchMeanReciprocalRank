{
 "cells": [
  {
   "cell_type": "code",
   "execution_count": null,
   "id": "3c62159f-75ee-4241-ab91-1f6ce6d8728d",
   "metadata": {},
   "outputs": [],
   "source": [
    "%load_ext autoreload\n",
    "%autoreload 2"
   ]
  },
  {
   "cell_type": "code",
   "execution_count": null,
   "id": "9b420933-d66f-41f1-820f-f2c1f862a09b",
   "metadata": {},
   "outputs": [],
   "source": [
    "import torch\n",
    "import numpy as np"
   ]
  },
  {
   "cell_type": "code",
   "execution_count": null,
   "id": "88d23b5f-d88a-4183-b248-28b784fc0840",
   "metadata": {},
   "outputs": [],
   "source": [
    "from torch_geometric.datasets import LRGBDataset\n",
    "from torch_geometric.utils import to_dense_batch"
   ]
  },
  {
   "cell_type": "code",
   "execution_count": null,
   "id": "3f796a28-e1f9-43db-bb2a-5bc95a02fa0e",
   "metadata": {},
   "outputs": [],
   "source": [
    "import time"
   ]
  },
  {
   "cell_type": "code",
   "execution_count": null,
   "id": "41420833-d94c-4cdb-b148-b7e2c374248c",
   "metadata": {},
   "outputs": [],
   "source": []
  },
  {
   "cell_type": "code",
   "execution_count": null,
   "id": "81c5fc22-475f-4a0a-8258-8aa5e0d3c8cd",
   "metadata": {},
   "outputs": [],
   "source": [
    "dataset = LRGBDataset('/mnt/d/datasets', 'pcqm-contact')"
   ]
  },
  {
   "cell_type": "code",
   "execution_count": null,
   "id": "a478b65e-d7cf-4ddc-afa1-ce314d63ca4e",
   "metadata": {},
   "outputs": [],
   "source": []
  },
  {
   "cell_type": "code",
   "execution_count": null,
   "id": "7066ef7f-7bf0-413d-a3d1-36c64aebd212",
   "metadata": {},
   "outputs": [],
   "source": [
    "from torch_geometric.data import Batch"
   ]
  },
  {
   "cell_type": "code",
   "execution_count": null,
   "id": "c0e10daf-c5ee-4bd0-a2ec-7467dfccef8f",
   "metadata": {},
   "outputs": [],
   "source": [
    "batch = Batch.from_data_list(dataset[:128])"
   ]
  },
  {
   "cell_type": "code",
   "execution_count": null,
   "id": "e5354d0b-91c1-4843-95b2-5bb7c8473ca1",
   "metadata": {},
   "outputs": [],
   "source": [
    "batch.x = torch.rand(batch.num_nodes, 128)"
   ]
  },
  {
   "cell_type": "code",
   "execution_count": null,
   "id": "1b6d9acf-b600-4d04-8d1a-bf27561bf2a6",
   "metadata": {},
   "outputs": [],
   "source": [
    "device = 'cuda' if torch.cuda.is_available() else 'cpu'"
   ]
  },
  {
   "cell_type": "code",
   "execution_count": null,
   "id": "bfaf61ab-61e1-4fe8-a151-69068dda4dad",
   "metadata": {},
   "outputs": [],
   "source": [
    "batch = batch.to(device)"
   ]
  },
  {
   "cell_type": "code",
   "execution_count": null,
   "id": "e76f6800-a49d-4d4b-8313-33ead4864544",
   "metadata": {},
   "outputs": [],
   "source": []
  },
  {
   "cell_type": "code",
   "execution_count": null,
   "id": "68223421-f7d2-401a-a8b0-c327bb1b8bef",
   "metadata": {},
   "outputs": [],
   "source": [
    "def sync():\n",
    "    if torch.cuda.is_available():\n",
    "        torch.cuda.synchronize()"
   ]
  },
  {
   "cell_type": "code",
   "execution_count": null,
   "id": "f75ea541-043d-4b42-bdf6-6103e2c34a50",
   "metadata": {},
   "outputs": [],
   "source": []
  },
  {
   "cell_type": "code",
   "execution_count": null,
   "id": "4b1e61f6-7ede-4d91-a73d-ec2ad1253946",
   "metadata": {},
   "outputs": [],
   "source": [
    "from main import eval_mrr_batch, eval_mrr"
   ]
  },
  {
   "cell_type": "code",
   "execution_count": null,
   "id": "50576d78-a372-4f12-86aa-c09ac241eaa9",
   "metadata": {},
   "outputs": [],
   "source": [
    "sync()\n",
    "t = time.time()\n",
    "\n",
    "mrrs1 = eval_mrr(batch)\n",
    "\n",
    "sync()\n",
    "print(time.time() - t)"
   ]
  },
  {
   "cell_type": "code",
   "execution_count": null,
   "id": "c83f3d46-9879-4b76-9082-bf3d2b381835",
   "metadata": {},
   "outputs": [],
   "source": []
  },
  {
   "cell_type": "code",
   "execution_count": null,
   "id": "e843b041-bce6-42ef-96d6-ac70099ccf25",
   "metadata": {},
   "outputs": [],
   "source": [
    "sync()\n",
    "t = time.time()\n",
    "\n",
    "mrrs2 = eval_mrr_batch(batch)\n",
    "\n",
    "sync()\n",
    "print(time.time() - t)"
   ]
  },
  {
   "cell_type": "code",
   "execution_count": null,
   "id": "555e3f10-22d7-45bc-af8e-ace2badb5c0f",
   "metadata": {},
   "outputs": [],
   "source": []
  },
  {
   "cell_type": "code",
   "execution_count": null,
   "id": "b93f3e9d-6bac-4798-acb1-ff30797a50f0",
   "metadata": {},
   "outputs": [],
   "source": []
  }
 ],
 "metadata": {
  "kernelspec": {
   "display_name": "Python 3 (ipykernel)",
   "language": "python",
   "name": "python3"
  },
  "language_info": {
   "codemirror_mode": {
    "name": "ipython",
    "version": 3
   },
   "file_extension": ".py",
   "mimetype": "text/x-python",
   "name": "python",
   "nbconvert_exporter": "python",
   "pygments_lexer": "ipython3",
   "version": "3.11.7"
  }
 },
 "nbformat": 4,
 "nbformat_minor": 5
}
